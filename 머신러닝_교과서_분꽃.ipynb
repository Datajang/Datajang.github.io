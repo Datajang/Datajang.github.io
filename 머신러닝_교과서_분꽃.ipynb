{
  "nbformat": 4,
  "nbformat_minor": 0,
  "metadata": {
    "colab": {
      "name": "머신러닝 교과서 분꽃",
      "provenance": [],
      "collapsed_sections": [],
      "authorship_tag": "ABX9TyOt2VpLGOaGtB8WYkAn6RRp",
      "include_colab_link": true
    },
    "kernelspec": {
      "name": "python3",
      "display_name": "Python 3"
    }
  },
  "cells": [
    {
      "cell_type": "markdown",
      "metadata": {
        "id": "view-in-github",
        "colab_type": "text"
      },
      "source": [
        "<a href=\"https://colab.research.google.com/github/Datajang/Datajang.github.io/blob/master/%EB%A8%B8%EC%8B%A0%EB%9F%AC%EB%8B%9D_%EA%B5%90%EA%B3%BC%EC%84%9C_%EB%B6%84%EA%BD%83.ipynb\" target=\"_parent\"><img src=\"https://colab.research.google.com/assets/colab-badge.svg\" alt=\"Open In Colab\"/></a>"
      ]
    },
    {
      "cell_type": "code",
      "metadata": {
        "id": "78T_zaALj4Vj",
        "colab_type": "code",
        "colab": {}
      },
      "source": [
        "import numpy as np\n",
        "import matplotlib.pyplot as plt\n",
        "import pandas as pd\n",
        "from matplotlib.colors import ListedColormap"
      ],
      "execution_count": 0,
      "outputs": []
    },
    {
      "cell_type": "code",
      "metadata": {
        "id": "BbF3dZ-ztx9j",
        "colab_type": "code",
        "colab": {}
      },
      "source": [
        "class Perceptron(object):\n",
        "  def __init__(self, eta = 0.01, n_iter = 50, random_state = 1):\n",
        "    self.eta = eta\n",
        "    self.n_iter = n_iter\n",
        "    self.random_state = random_state\n",
        "\n",
        "  def fit(self, x, y):\n",
        "    rgen = np.random.RandomState(self.random_state)\n",
        "    self.w_ = rgen.normal(loc = 0.0, scale = 0.01, size = 1+x.shape[1])\n",
        "    self.errors_ = []\n",
        "\n",
        "    for _ in range(self.n_iter):\n",
        "      errors = 0\n",
        "      for xi, target in zip(x,y):\n",
        "        update = self.eta * (target - self.predict(xi))\n",
        "        self.w_[1:] += update * xi\n",
        "        self.w_[0] += update\n",
        "        errors += int(update != 0.0)\n",
        "      self.errors_.append(errors)\n",
        "    return self\n",
        "\n",
        "  def net_input(self, x):\n",
        "    return np.dot(x, self.w_[1:]) + self.w_[0]\n",
        "\n",
        "  def predict(self, x):\n",
        "    return np.where(self.net_input(x) >= 0.0, 1, -1)"
      ],
      "execution_count": 0,
      "outputs": []
    },
    {
      "cell_type": "code",
      "metadata": {
        "id": "OTM5F6_otx7n",
        "colab_type": "code",
        "colab": {}
      },
      "source": [
        "df = pd.read_csv('http://archive.ics.uci.edu/ml/machine-learning-databases/iris/iris.data', header = None)"
      ],
      "execution_count": 0,
      "outputs": []
    },
    {
      "cell_type": "code",
      "metadata": {
        "id": "0Vw5hkwBtx5q",
        "colab_type": "code",
        "colab": {}
      },
      "source": [
        "y = df.iloc[0:100,4].values\n",
        "y = np.where(y == 'iris-setosa', -1, 1)"
      ],
      "execution_count": 0,
      "outputs": []
    },
    {
      "cell_type": "code",
      "metadata": {
        "id": "zULpLu2utx4X",
        "colab_type": "code",
        "colab": {}
      },
      "source": [
        "X = df.iloc[0:100,[0,2]].values"
      ],
      "execution_count": 0,
      "outputs": []
    },
    {
      "cell_type": "code",
      "metadata": {
        "id": "FxsSm5C2tx2R",
        "colab_type": "code",
        "outputId": "1b5aad95-07d3-4091-e298-c8f780f3a363",
        "colab": {
          "base_uri": "https://localhost:8080/",
          "height": 298
        }
      },
      "source": [
        "plt.scatter(X[:50,0], X[:50,1], color = 'red', marker = 'o', label = 'setosa')\n",
        "plt.scatter(X[51:,0], X[51:,1], color = 'blue', marker = 'x', label = 'versicolor')\n",
        "plt.legend()\n",
        "plt.xlabel('sepal leength [cm]')\n",
        "plt.ylabel('petal length [cm]')"
      ],
      "execution_count": 0,
      "outputs": [
        {
          "output_type": "execute_result",
          "data": {
            "text/plain": [
              "Text(0, 0.5, 'petal length [cm]')"
            ]
          },
          "metadata": {
            "tags": []
          },
          "execution_count": 43
        },
        {
          "output_type": "display_data",
          "data": {
            "image/png": "[encoded data removed]",
            "text/plain": [
              "<Figure size 432x288 with 1 Axes>"
            ]
          },
          "metadata": {
            "tags": [],
            "needs_background": "light"
          }
        }
      ]
    },
    {
      "cell_type": "code",
      "metadata": {
        "id": "tcaETx66tx0e",
        "colab_type": "code",
        "outputId": "fe22a799-2b3f-41b6-d494-4844e7e70215",
        "colab": {
          "base_uri": "https://localhost:8080/",
          "height": 298
        }
      },
      "source": [
        "ppn = Perceptron(eta = 0.01, n_iter=20)\n",
        "ppn.fit(X,y)\n",
        "plt.plot(range(1, len(ppn.errors_)+1 ), ppn.errors_, marker = 'o')\n",
        "plt.xlabel('Epochs')\n",
        "plt.ylabel('Number of errors')"
      ],
      "execution_count": 0,
      "outputs": [
        {
          "output_type": "execute_result",
          "data": {
            "text/plain": [
              "Text(0, 0.5, 'Number of errors')"
            ]
          },
          "metadata": {
            "tags": []
          },
          "execution_count": 44
        },
        {
          "output_type": "display_data",
          "data": {
            "image/png": "[encoded data removed]",
            "text/plain": [
              "<Figure size 432x288 with 1 Axes>"
            ]
          },
          "metadata": {
            "tags": [],
            "needs_background": "light"
          }
        }
      ]
    },
    {
      "cell_type": "code",
      "metadata": {
        "id": "_9CX0zYmtxyJ",
        "colab_type": "code",
        "colab": {}
      },
      "source": [
        "def plot_decision_regions(X,y, classifier, resolution = 0.02):\n",
        "  markers = ('s','x','o','^','v')\n",
        "  colors = ('red', 'blue', 'lightgreen', 'gray', 'cyan')\n",
        "  cmap = ListedColormap(colors[:len(np.unique(y))])\n",
        "\n",
        "  x1_min, x1_max = X[:,0].min() -1, X[:,0].max() + 1\n",
        "  x2_min, x2_max = X[:,1].min() -1 , X[:,1].max() +1\n",
        "  xx1,xx2 = np.meshgrid(np.arange(x1_min, x1_max, resolution), np.arange(x2_min, x2_max, resolution))\n",
        "  Z = classifier.predict(np.array([xx1.ravel(), xx2.ravel()]).T)\n",
        "  Z = Z.reshape(xx1.shape)\n",
        "  plt.contour(xx1, xx2, Z, alpha = 0.3, cmap = cmap)\n",
        "  plt.xlim(xx1.min(), xx1.max())\n",
        "  plt.ylim(xx2.min(), xx2.max())\n",
        "\n",
        "  for idx, cl in enumerate(np.unique(y)):\n",
        "    plt.scatter(x = X[y == cl, 0],\n",
        "                y = X[y == cl, 1],\n",
        "                alpha = 0.8,\n",
        "                c = colors[idx],\n",
        "                marker = markers[idx],\n",
        "                label = cl,\n",
        "                edgecolor = 'black')"
      ],
      "execution_count": 0,
      "outputs": []
    },
    {
      "cell_type": "code",
      "metadata": {
        "id": "VdN3WYy77V-_",
        "colab_type": "code",
        "outputId": "0e4bccee-c52e-4157-f2c7-57bf177468f5",
        "colab": {
          "base_uri": "https://localhost:8080/",
          "height": 336
        }
      },
      "source": [
        "plot_decision_regions(X,y, classifier=ppn)\n",
        "plt.xlabel('sepal length [cm]')\n",
        "plt.ylabel('petal length [cm]')\n",
        "plt.legend(loc = 'upper left')"
      ],
      "execution_count": 0,
      "outputs": [
        {
          "output_type": "stream",
          "text": [
            "/usr/local/lib/python3.6/dist-packages/ipykernel_launcher.py:11: UserWarning: No contour levels were found within the data range.\n",
            "  # This is added back by InteractiveShellApp.init_path()\n"
          ],
          "name": "stderr"
        },
        {
          "output_type": "execute_result",
          "data": {
            "text/plain": [
              "<matplotlib.legend.Legend at 0x7f58cc987978>"
            ]
          },
          "metadata": {
            "tags": []
          },
          "execution_count": 46
        },
        {
          "output_type": "display_data",
          "data": {
            "image/png": "[encoded data removed]",
            "text/plain": [
              "<Figure size 432x288 with 1 Axes>"
            ]
          },
          "metadata": {
            "tags": [],
            "needs_background": "light"
          }
        }
      ]
    },
    {
      "cell_type": "code",
      "metadata": {
        "id": "aCxev3gx7V8v",
        "colab_type": "code",
        "colab": {}
      },
      "source": [
        "class AdalineGD(object):\n",
        "  def __init__(self, eta = 0.01, n_iter = 50, random_state =1):\n",
        "    self.eta = eta\n",
        "    self.n_iter = n_iter\n",
        "    self.random_state = random_state\n",
        "\n",
        "  def fit(self, X, y):\n",
        "    rgen = np.random.RandomState(self.random_state)\n",
        "    self.w_ = rgen.normal(loc = 0.0, scale = 0.01, size = 1 + X.shape[1])\n",
        "    self.cost_ = []\n",
        "\n",
        "    for i in range(self.n_iter):\n",
        "      net_input = self.net_input(X)\n",
        "      output = self.activation(net_input)\n",
        "      errors = (y - output)\n",
        "      self.w_[1:] += self.eta* X.T.dot(errors)\n",
        "      self.w_[0] += self.eta * errors.sum()\n",
        "      cost = (errors**2).sum() / 2.0\n",
        "      self.cost_.append(cost)\n",
        "\n",
        "    return self\n",
        "\n",
        "  def net_input(self, X):\n",
        "    return np.dot(X, self.w_[1:]) + self.w_[0]\n",
        "  \n",
        "  def activation(self, X):\n",
        "    return X\n",
        "  def predict(self, X):\n",
        "    return np.where(self.activation(self.net_input(X)) >= 0.0,  1, -1)"
      ],
      "execution_count": 0,
      "outputs": []
    },
    {
      "cell_type": "code",
      "metadata": {
        "id": "pXqnuHvu7V6B",
        "colab_type": "code",
        "outputId": "912c987c-337d-4994-83da-167feb067ee4",
        "colab": {
          "base_uri": "https://localhost:8080/",
          "height": 314
        }
      },
      "source": [
        "fig, ax = plt.subplots(nrows = 1, ncols = 3, figsize = (10,4))\n",
        "\n",
        "ada1 = AdalineGD(n_iter=10, eta = 0.01).fit(X,y)\n",
        "ax[0].plot(range(1,len(ada1.cost_)+1), np.log10(ada1.cost_), marker = 'o')\n",
        "ax[0].set_xlabel('Epochs')\n",
        "ax[0].set_ylabel('log(Sum-squared-error)')\n",
        "ax[0].set_title('Adaline - Learning rate 0.01')\n",
        "\n",
        "ada2 = AdalineGD(n_iter = 10, eta = 0.0001).fit(X,y)\n",
        "ax[1].plot(range(1,len(ada2.cost_)+1), ada2.cost_, marker = 'o')\n",
        "ax[1].set_xlabel('Epochs')\n",
        "ax[1].set_ylabel('Sum-squared-error')\n",
        "ax[1].set_title('Adaline - Learning rate 0.0001')\n",
        "\n",
        "ada3 = AdalineGD(n_iter = 10, eta = 0.001).fit(X,y)\n",
        "ax[2].plot(range(1,len(ada3.cost_)+1), np.log10(ada3.cost_), marker = 'o')\n",
        "ax[2].set_xlabel('Epochs')\n",
        "ax[2].set_ylabel('Sum-squared-error')\n",
        "ax[2].set_title('Adaline - Learning rate 0.001')"
      ],
      "execution_count": 0,
      "outputs": [
        {
          "output_type": "execute_result",
          "data": {
            "text/plain": [
              "Text(0.5, 1.0, 'Adaline - Learning rate 0.001')"
            ]
          },
          "metadata": {
            "tags": []
          },
          "execution_count": 48
        },
        {
          "output_type": "display_data",
          "data": {
            "image/png": "[encoded data removed]",
            "text/plain": [
              "<Figure size 720x288 with 3 Axes>"
            ]
          },
          "metadata": {
            "tags": [],
            "needs_background": "light"
          }
        }
      ]
    },
    {
      "cell_type": "code",
      "metadata": {
        "id": "zPuyAEEj7V3i",
        "colab_type": "code",
        "colab": {}
      },
      "source": [
        "X_std = np.copy(X)\n",
        "X_std[:,0] = (X[:,0] - X[:,0].mean()) / X[:,0].std()\n",
        "X_std[:,1] = (X[:,1] - X[:,1].mean()) / X[:,1].std()"
      ],
      "execution_count": 0,
      "outputs": []
    },
    {
      "cell_type": "code",
      "metadata": {
        "id": "-ExqSJwmbjcO",
        "colab_type": "code",
        "outputId": "06528690-e285-449d-e75d-e96e035c6aeb",
        "colab": {
          "base_uri": "https://localhost:8080/",
          "height": 597
        }
      },
      "source": [
        "ada = AdalineGD(n_iter=15, eta=0.001)\n",
        "ada.fit(X_std, y)\n",
        "\n",
        "plot_decision_regions(X_std, y, classifier=ada)\n",
        "plt.title('Adaline - Gradient Descent')\n",
        "plt.xlabel('sepal length [standardized]')\n",
        "plt.ylabel('petal length [standardized]')\n",
        "plt.legend(loc = 'upper left')\n",
        "plt.tight_layout()\n",
        "plt.show()\n",
        "\n",
        "plt.plot(range(1,len(ada.cost_) + 1), ada.cost_, marker = 'o')\n",
        "plt.xlabel('Epochs')\n",
        "plt.ylabel('Sum-squard-errors')\n",
        "plt.show()"
      ],
      "execution_count": 0,
      "outputs": [
        {
          "output_type": "stream",
          "text": [
            "/usr/local/lib/python3.6/dist-packages/ipykernel_launcher.py:11: UserWarning: No contour levels were found within the data range.\n",
            "  # This is added back by InteractiveShellApp.init_path()\n"
          ],
          "name": "stderr"
        },
        {
          "output_type": "display_data",
          "data": {
            "image/png": "[encoded data removed]",
            "text/plain": [
              "<Figure size 432x288 with 1 Axes>"
            ]
          },
          "metadata": {
            "tags": [],
            "needs_background": "light"
          }
        },
        {
          "output_type": "display_data",
          "data": {
            "image/png": "[encoded data removed]",
            "text/plain": [
              "<Figure size 432x288 with 1 Axes>"
            ]
          },
          "metadata": {
            "tags": [],
            "needs_background": "light"
          }
        }
      ]
    },
    {
      "cell_type": "code",
      "metadata": {
        "id": "T1Uw8ak-bjZU",
        "colab_type": "code",
        "colab": {}
      },
      "source": [
        "class AdalineSGD(object):\n",
        "  def __init__(self, eta = 0.01, n_iter = 10, shuffle = True, random_state = None):\n",
        "    self.eta = eta\n",
        "    self.n_iter = n_iter\n",
        "    self.w_initialized = False\n",
        "    self.shuffle =shuffle\n",
        "    self.random_state = random_state\n",
        "\n",
        "  def fit(self, X, y):\n",
        "    self._initialize_weights(X.shape[1])\n",
        "    self.cost_ = []\n",
        "    for i in range(self.n_iter):\n",
        "      if self.shuffle:\n",
        "        X,y = self._shuffle(X, y)\n",
        "      cost = []\n",
        "      for xi, target in zip(X, y):\n",
        "        cost.append(self._update_weights(xi,target))\n",
        "      avg_cost = sum(cost) / len(y)\n",
        "      self.cost_.append(avg_cost)\n",
        "    return self\n",
        "  \n",
        "  def partial_fit(self, X, y):\n",
        "    if not self.w_initialized:\n",
        "      self._initialize_weights(X.shape[1])\n",
        "    if y.ravel().shape[0] > 1:\n",
        "      for xi, target in zip(X, y):\n",
        "        self._update_weights(xi, target)\n",
        "    else:\n",
        "      self._update_weights(X,y)\n",
        "    return self\n",
        "\n",
        "  def _shuffle(self, X, y):\n",
        "    r = self.rgen.permutation(len(y))\n",
        "    return X[r], y[r]\n",
        "\n",
        "  def _initialize_weights(self, m):\n",
        "    self.rgen = np.random.RandomState(self.random_state)\n",
        "    self.w_ = self.rgen.normal(loc = 0.0, scale = 0.01, size = 1 + m)\n",
        "    self.w_initialized = True\n",
        "  \n",
        "  def _update_weights(self, xi, target):\n",
        "    output = self.activation(self.net_input(xi))\n",
        "    error = (target - output)\n",
        "    self.w_[1:] += self.eta * xi.dot(error)\n",
        "    self.w_[0] += self.eta * error\n",
        "    cost = 0.5 * error**2\n",
        "    return cost\n",
        "  \n",
        "  def net_input(self, X):\n",
        "    return np.dot(X, self.w_[1:]) + self.w_[0]\n",
        "  \n",
        "  def activation(self, X):\n",
        "    return X\n",
        "  \n",
        "  def predict(self, X):\n",
        "    return np.where(self.activation(self.net_input(X)) >= 0.0, 1, -1)"
      ],
      "execution_count": 0,
      "outputs": []
    },
    {
      "cell_type": "code",
      "metadata": {
        "id": "DpmeXcCxbjXA",
        "colab_type": "code",
        "outputId": "1535f3c4-8ee2-4feb-cc61-56303226c141",
        "colab": {
          "base_uri": "https://localhost:8080/",
          "height": 551
        }
      },
      "source": [
        "ada = AdalineSGD(n_iter = 15, eta = 0.01, random_state=1)\n",
        "ada.fit(X_std, y)\n",
        "\n",
        "plot_decision_regions(X_std, y, classifier = ada)\n",
        "plt.show()\n",
        "plt.plot(range(1, len(ada.cost_)+1), ada.cost_, marker = 'o')\n",
        "plt.show()"
      ],
      "execution_count": 0,
      "outputs": [
        {
          "output_type": "stream",
          "text": [
            "/usr/local/lib/python3.6/dist-packages/ipykernel_launcher.py:11: UserWarning: No contour levels were found within the data range.\n",
            "  # This is added back by InteractiveShellApp.init_path()\n"
          ],
          "name": "stderr"
        },
        {
          "output_type": "display_data",
          "data": {
            "image/png": "[encoded data removed]",
            "text/plain": [
              "<Figure size 432x288 with 1 Axes>"
            ]
          },
          "metadata": {
            "tags": [],
            "needs_background": "light"
          }
        },
        {
          "output_type": "display_data",
          "data": {
            "image/png": "[encoded data removed]",
            "text/plain": [
              "<Figure size 432x288 with 1 Axes>"
            ]
          },
          "metadata": {
            "tags": [],
            "needs_background": "light"
          }
        }
      ]
    },
    {
      "cell_type": "code",
      "metadata": {
        "id": "ZaHg8vjRbjT3",
        "colab_type": "code",
        "colab": {}
      },
      "source": [
        ""
      ],
      "execution_count": 0,
      "outputs": []
    },
    {
      "cell_type": "code",
      "metadata": {
        "id": "Rz8VS7FTbjRc",
        "colab_type": "code",
        "colab": {}
      },
      "source": [
        ""
      ],
      "execution_count": 0,
      "outputs": []
    },
    {
      "cell_type": "code",
      "metadata": {
        "id": "DlXHVkvOugr3",
        "colab_type": "code",
        "colab": {}
      },
      "source": [
        ""
      ],
      "execution_count": 0,
      "outputs": []
    },
    {
      "cell_type": "code",
      "metadata": {
        "id": "_cgw6EpXugob",
        "colab_type": "code",
        "colab": {}
      },
      "source": [
        ""
      ],
      "execution_count": 0,
      "outputs": []
    },
    {
      "cell_type": "code",
      "metadata": {
        "id": "rR6ZDTdfuglk",
        "colab_type": "code",
        "colab": {}
      },
      "source": [
        ""
      ],
      "execution_count": 0,
      "outputs": []
    },
    {
      "cell_type": "markdown",
      "metadata": {
        "id": "sPwl2mOMtxjT",
        "colab_type": "text"
      },
      "source": [
        ""
      ]
    }
  ]
}